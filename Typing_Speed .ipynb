{
 "cells": [
  {
   "cell_type": "code",
   "execution_count": 4,
   "id": "e97a1d73",
   "metadata": {},
   "outputs": [],
   "source": [
    "from time import *\n",
    "from random import *"
   ]
  },
  {
   "cell_type": "code",
   "execution_count": 5,
   "id": "1f02a1ab",
   "metadata": {},
   "outputs": [],
   "source": [
    "def mistake(comp_input,user_enter):\n",
    "    error=0\n",
    "    for i in range(0,len(comp_input)):\n",
    "        try :\n",
    "            if comp_input[i]!=user_enter[i]:\n",
    "                error+=1\n",
    "        except:\n",
    "            error+=1\n",
    "    return error"
   ]
  },
  {
   "cell_type": "code",
   "execution_count": 6,
   "id": "f2a4fa97",
   "metadata": {},
   "outputs": [],
   "source": [
    "def speedis(t1,t2,user):\n",
    "    diff_time=t2-t1\n",
    "    time_rnd = round(diff_time,2)\n",
    "    speed=len(user)/time_rnd\n",
    "    return round(speed)"
   ]
  },
  {
   "cell_type": "code",
   "execution_count": 9,
   "id": "bffe6a20",
   "metadata": {},
   "outputs": [
    {
     "name": "stdout",
     "output_type": "stream",
     "text": [
      "Situated close to the borders with Nepal, Bangladesh, Bhutan and China.\n",
      "\n",
      "\n",
      "Enter : Situated close to the borders with Nepal, Bangladesh, Bhutan and china.\n",
      "Speed is :  5\n",
      "Error is :  1\n",
      "\n"
     ]
    }
   ],
   "source": [
    "\n",
    "cp_input=[\"Darjeeling is a town in India's Eastern Himalayas.\",\n",
    " \"Situated close to the borders with Nepal, Bangladesh, Bhutan and China.\",\n",
    " \" In the mid-19th century when much of India was under East India Company rule\", \n",
    "\"Darjeeling was founded as a summer retreat.\" ]\n",
    "cp_input1=choice(cp_input)\n",
    "print(cp_input1)\n",
    "print()\n",
    "print()\n",
    "time_1=time()\n",
    "user_input=input(\"Enter : \")\n",
    "time_2=time()\n",
    "\n",
    "# calling the functions\n",
    "s=speedis(time_1,time_2,user_input)\n",
    "print(\"Speed is : \",s)\n",
    "m=mistake(cp_input1,user_input)\n",
    "print(\"Error is : \",m)\n",
    "print()\n"
   ]
  },
  {
   "cell_type": "code",
   "execution_count": null,
   "id": "6fd0dca8",
   "metadata": {},
   "outputs": [],
   "source": []
  }
 ],
 "metadata": {
  "kernelspec": {
   "display_name": "Python 3 (ipykernel)",
   "language": "python",
   "name": "python3"
  },
  "language_info": {
   "codemirror_mode": {
    "name": "ipython",
    "version": 3
   },
   "file_extension": ".py",
   "mimetype": "text/x-python",
   "name": "python",
   "nbconvert_exporter": "python",
   "pygments_lexer": "ipython3",
   "version": "3.11.4"
  }
 },
 "nbformat": 4,
 "nbformat_minor": 5
}
